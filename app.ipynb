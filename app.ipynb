{
 "cells": [
  {
   "cell_type": "code",
   "execution_count": 1,
   "id": "9314c1e5-9601-4982-88e3-9db249c28e90",
   "metadata": {},
   "outputs": [
    {
     "name": "stdout",
     "output_type": "stream",
     "text": [
      "Welcome to Book my Application\n"
     ]
    }
   ],
   "source": [
    "print(\"Welcome to Book my Application\")"
   ]
  },
  {
   "cell_type": "code",
   "execution_count": 60,
   "id": "1f0114b7-8393-4e6c-bd57-b4fef557fe72",
   "metadata": {},
   "outputs": [],
   "source": [
    "def city():\n",
    "    print(\"Please select your city \\n 1.Mumbai \\n 2.Pune \\n 3.Delhi \\n 4. Banglore\")\n",
    "    c=int(input())\n",
    "    if c==1:\n",
    "        print(\"You have selected Mumbai\")\n",
    "    elif c == 2:\n",
    "        print(\"You have selected Pune\")\n",
    "    elif c == 3:\n",
    "        print(\"You have selected Delhi\")\n",
    "    elif c == 4:\n",
    "        print(\"You have selected Banglore\")\n",
    "    else:\n",
    "        print(\"Please choose a valid option\")\n",
    "        city()\n",
    "    t_movie()"
   ]
  },
  {
   "cell_type": "code",
   "execution_count": 47,
   "id": "de079aeb-bfdf-4135-8a60-459d5777319b",
   "metadata": {},
   "outputs": [],
   "source": [
    "def t_movie():\n",
    "    print(\"Please select the movie which you want to watch \\n 1. ABC \\n 2. PQR \\n 3. XYZ\")\n",
    "    t=int(input())\n",
    "    if t==1:\n",
    "        print(\"You have selected the movie ABC\")\n",
    "    elif t==2:\n",
    "        print(\"You have selected the movie PQR\")\n",
    "    elif t==3:\n",
    "        print(\"You have selected the movie XYZ\")\n",
    "    else:\n",
    "        print(\"Please choose a valid option\")\n",
    "        t_movie()\n",
    "    theatre()\n",
    "        "
   ]
  },
  {
   "cell_type": "code",
   "execution_count": 49,
   "id": "0373f513-5e52-4b5f-a7dd-badfe016a50b",
   "metadata": {},
   "outputs": [],
   "source": [
    "def theatre():\n",
    "    print(\"Please select the Theatre\\n1.INOX\\n2.PVR\\n3.back\")\n",
    "    h=int(input())\n",
    "    if h==1:\n",
    "        print(\"You have selected INOX\")\n",
    "    elif h==2:\n",
    "        print(\"You have selected PVR\")\n",
    "    elif h==3:\n",
    "        t_movie()\n",
    "    else:\n",
    "        print(\"Please enter a valid option\")\n",
    "        theatre()\n",
    "    screen()"
   ]
  },
  {
   "cell_type": "code",
   "execution_count": 72,
   "id": "ebf0d7ba-29fb-4649-a304-b54ddfee2a1b",
   "metadata": {},
   "outputs": [],
   "source": [
    "def screen():\n",
    "    print(\"choose your screen \\n 1.Screen \\n 2. Screen 2 \\n 3.Screen 3 \\n 4.back\")\n",
    "    s=int(input(\"select screen\"))\n",
    "    if s==1:\n",
    "        print(\"\")\n",
    "    elif s==2:\n",
    "        print(\"\")\n",
    "    elif s==3:\n",
    "        print(\"\")\n",
    "    elif s==4:\n",
    "        theatre()\n",
    "    else:\n",
    "        print(\"\")\n",
    "        screen()\n",
    "    timing(s)"
   ]
  },
  {
   "cell_type": "code",
   "execution_count": 92,
   "id": "2cb44f7e-4c20-4d78-b566-cce750501b7f",
   "metadata": {},
   "outputs": [],
   "source": [
    "def timing(s):\n",
    "    slot1={\"1\":\"10.00-1.00\",\"2\":\"1.10-4.10\",\"3\":\"4.20-7.20\",\"4\":\"7.30-10.30\"}\n",
    "    slot2={\"1\":\"10.15-1.15\",\"2\":\"1.25-4.25\",\"3\":\"4.35-7.35\",\"4\":\"7.45-10.45\"}\n",
    "    slot3={\"1\":\"10.30-1.30\",\"2\":\"1.40-4.40\",\"3\":\"4.50-7.50\",\"4\":\"8.00-10.45\"}\n",
    "    print(\"please select the timing \\n 1. slot 1 \\n 2. slot 2 \\n 3. slot 3 \\n 4. back\") \n",
    "    if s==1:\n",
    "        print(\"please select the timing\")\n",
    "        time=input()\n",
    "        print(\"Successfully booked your seat . selected time is\",slot1[time])\n",
    "    elif s==2:\n",
    "        print(\"please select the timing\")\n",
    "        time=input()\n",
    "        print(\"Successfully booked your seat . selected time is\",slot2[time])\n",
    "    elif s==3:\n",
    "        print(\"please select the timing\")\n",
    "        time=input()\n",
    "        print(\"Successfully booked your seat . selected time is\",slot3[time])\n",
    "    else:\n",
    "        print(\"please enter valid option\")\n",
    "        screen()\n",
    "        timing(s)"
   ]
  },
  {
   "cell_type": "code",
   "execution_count": 94,
   "id": "010d9db8-8974-411a-9227-669c90fd9695",
   "metadata": {},
   "outputs": [
    {
     "name": "stdout",
     "output_type": "stream",
     "text": [
      "Please select your city \n",
      " 1.Mumbai \n",
      " 2.Pune \n",
      " 3.Delhi \n",
      " 4. Banglore\n"
     ]
    },
    {
     "name": "stdin",
     "output_type": "stream",
     "text": [
      " 1\n"
     ]
    },
    {
     "name": "stdout",
     "output_type": "stream",
     "text": [
      "You have selected Mumbai\n",
      "Please select the movie which you want to watch \n",
      " 1. ABC \n",
      " 2. PQR \n",
      " 3. XYZ\n"
     ]
    },
    {
     "name": "stdin",
     "output_type": "stream",
     "text": [
      " 1\n"
     ]
    },
    {
     "name": "stdout",
     "output_type": "stream",
     "text": [
      "You have selected the movie ABC\n",
      "Please select the Theatre\n",
      "1.INOX\n",
      "2.PVR\n",
      "3.back\n"
     ]
    },
    {
     "name": "stdin",
     "output_type": "stream",
     "text": [
      " 1\n"
     ]
    },
    {
     "name": "stdout",
     "output_type": "stream",
     "text": [
      "You have selected INOX\n",
      "choose your screen \n",
      " 1.Screen \n",
      " 2. Screen 2 \n",
      " 3.Screen 3 \n",
      " 4.back\n"
     ]
    },
    {
     "name": "stdin",
     "output_type": "stream",
     "text": [
      "select screen 1\n"
     ]
    },
    {
     "name": "stdout",
     "output_type": "stream",
     "text": [
      "\n",
      "please select the timing \n",
      " 1. slot 1 \n",
      " 2. slot 2 \n",
      " 3. slot 3 \n",
      " 4. back\n",
      "please select the timing\n"
     ]
    },
    {
     "name": "stdin",
     "output_type": "stream",
     "text": [
      " 1\n"
     ]
    },
    {
     "name": "stdout",
     "output_type": "stream",
     "text": [
      "Successfully booked your seat . selected time is 10.00-1.00\n"
     ]
    }
   ],
   "source": [
    "city()"
   ]
  },
  {
   "cell_type": "code",
   "execution_count": null,
   "id": "37fbac55-0dde-4674-9247-a4ef838c811a",
   "metadata": {},
   "outputs": [],
   "source": []
  }
 ],
 "metadata": {
  "kernelspec": {
   "display_name": "Python [conda env:base] *",
   "language": "python",
   "name": "conda-base-py"
  },
  "language_info": {
   "codemirror_mode": {
    "name": "ipython",
    "version": 3
   },
   "file_extension": ".py",
   "mimetype": "text/x-python",
   "name": "python",
   "nbconvert_exporter": "python",
   "pygments_lexer": "ipython3",
   "version": "3.12.7"
  }
 },
 "nbformat": 4,
 "nbformat_minor": 5
}
